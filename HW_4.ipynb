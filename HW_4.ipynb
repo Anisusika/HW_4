{
 "cells": [
  {
   "cell_type": "markdown",
   "metadata": {},
   "source": [
    "# Домашнее задание по теме функции"
   ]
  },
  {
   "cell_type": "code",
   "execution_count": 185,
   "metadata": {},
   "outputs": [],
   "source": [
    "#1. перечень всех документов\n",
    "\n",
    "documents = [\n",
    "{'type': 'passport', 'number': '2207 876234', 'name': 'Василий Гупкин'},\n",
    "{'type': 'invoice', 'number': '11-2', 'name': 'Геннадий Покемонов'},\n",
    "{'type': 'insurance', 'number': '10006', 'name': 'Аристарх Павлов'}\n",
    "]\n"
   ]
  },
  {
   "cell_type": "code",
   "execution_count": 186,
   "metadata": {},
   "outputs": [],
   "source": [
    "#2.перечень полок, на которых хранятся документы (если документ есть в documents, то он обязательно должен быть и в directories)\n",
    "\n",
    "directories = {\n",
    "'1': ['2207 876234', '11-2'],\n",
    "'2': ['10006'],\n",
    "'3': []\n",
    "}"
   ]
  },
  {
   "cell_type": "code",
   "execution_count": 187,
   "metadata": {},
   "outputs": [
    {
     "name": "stdout",
     "output_type": "stream",
     "text": [
      "Введите номер документа: 1\n",
      "Документ не найден\n"
     ]
    }
   ],
   "source": [
    "# поиск владельца документа по номеру документа\n",
    "def name_search():\n",
    "    doc_num = input('Введите номер документа: ')\n",
    "    for person in documents:\n",
    "        if person['number'] == doc_num:\n",
    "            print('Владелец документа: ', person['name'])\n",
    "            return\n",
    "    print('Документ не найден')\n",
    "        \n",
    "name_search()"
   ]
  },
  {
   "cell_type": "code",
   "execution_count": 188,
   "metadata": {},
   "outputs": [
    {
     "name": "stdout",
     "output_type": "stream",
     "text": [
      "Введите номер документа: 5\n",
      "Документ не найден\n"
     ]
    }
   ],
   "source": [
    "# поиск полки, на которой хранится документ, по номеру документа\n",
    "def shelf_search():\n",
    "    doc_num_2 = input('Введите номер документа: ')\n",
    "    for key, number in directories.items():\n",
    "        if doc_num_2 in number:\n",
    "            print('Результат:\\nДокумент храниться на полке: ', key, sep =\"\")\n",
    "            return\n",
    "    print('Документ не найден')\n",
    "        \n",
    "shelf_search()"
   ]
  },
  {
   "cell_type": "code",
   "execution_count": 189,
   "metadata": {},
   "outputs": [
    {
     "name": "stdout",
     "output_type": "stream",
     "text": [
      "№: 2207 876234, тип: passport, владелец: Василий Гупкин, полка хранения: 1\n",
      "№: 11-2, тип: invoice, владелец: Геннадий Покемонов, полка хранения: 1\n",
      "№: 10006, тип: insurance, владелец: Аристарх Павлов, полка хранения: 2\n"
     ]
    }
   ],
   "source": [
    "# вывод полной информации по всем документам\n",
    "def all_info():\n",
    "    for doc in documents:\n",
    "        for shelf, value in directories.items():\n",
    "            if doc['number'] in value:\n",
    "                print('№: ', doc['number'], ', тип: ', doc['type'], ', владелец: ', doc['name'], ', полка хранения: ', shelf, sep =\"\")\n",
    "    return\n",
    "all_info()"
   ]
  },
  {
   "cell_type": "code",
   "execution_count": 190,
   "metadata": {},
   "outputs": [
    {
     "name": "stdout",
     "output_type": "stream",
     "text": [
      "Введите номер полки:\n",
      "45\n",
      "Результат: \n",
      "Полка добавлена. Текущий перечень полок: 1, 2, 3, 45\n"
     ]
    }
   ],
   "source": [
    "# добавление новой полки\n",
    "def new_shelf_check():\n",
    "    new_shelf = input('Введите номер полки:\\n')\n",
    "    if new_shelf in directories.keys():\n",
    "        print('Результат: \\nТакая полка уже существует. Текущий перечень полок:', ', '.join(list(directories.keys())))\n",
    "    else:\n",
    "        directories[new_shelf] = []\n",
    "        print('Результат: \\nПолка добавлена. Текущий перечень полок:', ', '.join(list(directories.keys())))\n",
    "new_shelf_check()"
   ]
  },
  {
   "cell_type": "code",
   "execution_count": 191,
   "metadata": {},
   "outputs": [
    {
     "name": "stdout",
     "output_type": "stream",
     "text": [
      "Введите номер полки:\n",
      "45\n",
      "Результат: \n",
      "Полка удалена. Текущий перечень полок:  1, 2, 3\n"
     ]
    }
   ],
   "source": [
    "# удаление пустой полки\n",
    "def empty_shelf_del():\n",
    "    shelf_check = input('Введите номер полки:\\n')\n",
    "    if shelf_check not in directories.keys():\n",
    "        print('Результат: \\nТакой полки не существует. Текущий перечень полок: ',', '.join(list(directories.keys())))\n",
    "    elif directories[shelf_check] ==[]:\n",
    "        del directories[shelf_check]\n",
    "        print('Результат: \\nПолка удалена. Текущий перечень полок: ',', '.join(list(directories.keys())))\n",
    "    else:\n",
    "        print('Результат: \\nНа полке есть документ(ы), удалите их перед удалением полки. Текущий перечень полок:', ', '.join(list(directories.keys())))\n",
    "empty_shelf_del()   "
   ]
  },
  {
   "cell_type": "code",
   "execution_count": 196,
   "metadata": {},
   "outputs": [
    {
     "name": "stdout",
     "output_type": "stream",
     "text": [
      "\n",
      "Введите команду:\n",
      "ds\n",
      "Введите номер полки:\n",
      "5\n",
      "Результат: \n",
      "Такой полки не существует. Текущий перечень полок:  1, 2, 3\n",
      "\n",
      "Введите команду:\n",
      "ads\n",
      "Введите номер полки:\n",
      "456\n",
      "Результат: \n",
      "Полка добавлена. Текущий перечень полок: 1, 2, 3, 456\n",
      "\n",
      "Введите команду:\n",
      "l\n",
      "№: 2207 876234, тип: passport, владелец: Василий Гупкин, полка хранения: 1\n",
      "№: 11-2, тип: invoice, владелец: Геннадий Покемонов, полка хранения: 1\n",
      "№: 10006, тип: insurance, владелец: Аристарх Павлов, полка хранения: 2\n",
      "\n",
      "Введите команду:\n",
      "q\n",
      "До свидания!\n"
     ]
    }
   ],
   "source": [
    "def main():\n",
    "    while True:\n",
    "        user_input = input('\\nВведите команду:\\n')\n",
    "        if user_input == 'p':\n",
    "            name_search()\n",
    "        elif user_input == 's':\n",
    "            shelf_search()\n",
    "        elif user_input == 'l':\n",
    "            all_info()\n",
    "        elif user_input == 'ads':\n",
    "            new_shelf_check()\n",
    "        elif user_input == 'ds':\n",
    "            empty_shelf_del()    \n",
    "        elif user_input == 'q':\n",
    "            print('До свидания!')\n",
    "            break\n",
    "main()"
   ]
  },
  {
   "cell_type": "code",
   "execution_count": 171,
   "metadata": {},
   "outputs": [
    {
     "data": {
      "text/plain": [
       "'Пункт 1. Пользователь по команде \"p\" может узнать владельца документа по его номеру\\nПункт 2. Пользователь по команде \"s\" может по номеру документа узнать на какой полке он хранится\\nПункт 3. Пользователь по команде \"l\" может увидеть полную информацию по всем документам\\nПункт 4. Пользователь по команде \"ads\" может добавить новую полку\\nПункт 5. Пользователь по команде \"ds\" может удалить существующую полку из данных (только если она пустая)\\n\\nОбщие требования к программе:\\n\\nкод должен быть грамотно декомпозирован (каждая функция отвечает за свою конкретную задачу, дублирующийся функционал переиспользуется, а его код не повторяется);\\nв коде отсутствуют глобальные переменные (за исключением documents и directories);\\nпользовательский ввод обрабатывается в цикле while до тех пор, пока пользователь явно не завершит программу (вводом команды \"q\").'"
      ]
     },
     "execution_count": 171,
     "metadata": {},
     "output_type": "execute_result"
    }
   ],
   "source": [
    "\"\"\"Пункт 1. Пользователь по команде \"p\" может узнать владельца документа по его номеру\n",
    "Пункт 2. Пользователь по команде \"s\" может по номеру документа узнать на какой полке он хранится\n",
    "Пункт 3. Пользователь по команде \"l\" может увидеть полную информацию по всем документам\n",
    "Пункт 4. Пользователь по команде \"ads\" может добавить новую полку\n",
    "Пункт 5. Пользователь по команде \"ds\" может удалить существующую полку из данных (только если она пустая)\n",
    "\n",
    "Общие требования к программе:\n",
    "\n",
    "код должен быть грамотно декомпозирован (каждая функция отвечает за свою конкретную задачу, дублирующийся функционал переиспользуется, а его код не повторяется);\n",
    "в коде отсутствуют глобальные переменные (за исключением documents и directories);\n",
    "пользовательский ввод обрабатывается в цикле while до тех пор, пока пользователь явно не завершит программу (вводом команды \"q\").\"\"\"\n"
   ]
  },
  {
   "cell_type": "code",
   "execution_count": null,
   "metadata": {},
   "outputs": [],
   "source": []
  }
 ],
 "metadata": {
  "kernelspec": {
   "display_name": "Python 3",
   "language": "python",
   "name": "python3"
  },
  "language_info": {
   "codemirror_mode": {
    "name": "ipython",
    "version": 3
   },
   "file_extension": ".py",
   "mimetype": "text/x-python",
   "name": "python",
   "nbconvert_exporter": "python",
   "pygments_lexer": "ipython3",
   "version": "3.8.5"
  }
 },
 "nbformat": 4,
 "nbformat_minor": 4
}
